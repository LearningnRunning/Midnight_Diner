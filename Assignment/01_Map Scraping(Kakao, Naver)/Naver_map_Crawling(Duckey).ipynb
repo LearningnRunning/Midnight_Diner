{
 "cells": [
  {
   "cell_type": "markdown",
   "id": "d7225613",
   "metadata": {},
   "source": [
    "## 환경 설정"
   ]
  },
  {
   "cell_type": "code",
   "execution_count": 5,
   "id": "2f332f1d",
   "metadata": {},
   "outputs": [],
   "source": [
    "import time\n",
    "from selenium import webdriver\n",
    "from webdriver_manager.chrome import ChromeDriverManager # 크롬드라이버 자동 설치 모듈\n",
    "from selenium.webdriver.common.by import By\n",
    "from selenium.webdriver.support.ui import WebDriverWait \n",
    "from selenium.webdriver.support import expected_conditions as EC\n",
    "from selenium.webdriver.common.keys import Keys # button이 아닌 element도 클릭이 가능하게 만들어주는 모듈\n",
    "import pandas as pd"
   ]
  },
  {
   "cell_type": "markdown",
   "id": "2cd994cf",
   "metadata": {},
   "source": [
    "## 행정동 단위 리스트"
   ]
  },
  {
   "cell_type": "code",
   "execution_count": 6,
   "id": "ba8023a0",
   "metadata": {},
   "outputs": [],
   "source": [
    "#서울 강북\n",
    "\n",
    "# https://www.seoul.go.kr/seoul/autonomy_sub.do 참조\n",
    "\n",
    "#도봉구, 노원구, 강북구, 성북구, 은평구, 종로구, 서대문구, 중구, 동대문구, 중랑구, 광진구, 성동구, 용산구, 마포구\n",
    "Dobong = [] #`Dobong = ['쌍문동', '방학동', '창동', '도봉동']\n",
    "Nowon = ['공릉동', '하계동', '중계동', '상계동'] # Nowon = ['월계동', '공릉동', '하계동', '중계동', '상계동']\n",
    "Gangbuk = ['미아동', '번동', '수유동', '우이동']\n",
    "Sungbuk = ['성북동', '성북동1가', '동소문동1가', '동소문동4가', '삼선동1가', '삼선동2가', '삼선동3가', '삼선동4가', '삼선동5가', '돈암동', '동소문동2가', '동소문동3가',  '동소문동5가', '동선동1가', '동선동2가', '동선동3가', '동선동4가', '동선동5가', '동소문동6가', '동소문동7가', '안암동1가', '안암동2가', '안안동3가', '안암동4가', '안암동5가', '보문동1가', '보문동2가', '보문동3가', '보문동4가', '보문동5가', '보문동6가', '보문동7가', '정릉동', '길음동', '하월곡동', '종암동', '상월곡동', '장위동' , '석관동']\n",
    "Eunpyeong = ['녹번동', '불광동', '갈현동', '구산동', '대조동', '응암동', '역촌동', '신사동', '증산동', '수색동', '진관동']\n",
    "Jongro = ['청운동', '신교동', '궁정동', '효자동', '창성동', '통인동', '누상동', '누하동', '옥인동', '사직동', '체부동', '필운동', '내자동', '통의동', '적선동', '세종로', '도렴동', '당주동', '내수동', '신문로1가', '신문로2가', '삼청동', '팔판동', '안국동', '소격동', '화동', '사간동', '송현동', '부암동', '홍지동', '신영동', '평창동', '구기동', '무악동', '교남동', '평동', '송월동', '홍파동', '교북동', '행촌동', '가회동', '재동', '계동', '원서동', '종로1가', '종로2가', '종로3가', '종로4가', '청진동', '서린동', '수송동', '중학동', '공평동', '관훈동', '견지동', '권농동', '운니동', '익선동', '경운동', '관철동', '인사동', '낙원동', '와룡동', '홍정동', '묘동', '봉익동', '돈의동', '장사동', '관수동', '인의동', '예지동', '원남동', '종로5가', '종로6가', '효제동', '연지동', '충신동', '이화동', '연건동', '동숭동', '혜화동', '명륜1가', '명륜2가', '명륜3가', '명륜4가', '창신동', '숭인동']\n",
    "Seodaemun = ['충정로2가', '충정로3가', '합동', '미근동', '북아현동', '천연동', '냉천동', '옥천동', '영천동', '현저동', '대신동', '대현동', '신총동', '봉원동', '창천동', '연희동', '홍제동', '홍은동', '남가좌동', '북가좌동']\n",
    "Jung = ['소공동', '북창동', '태평로2가', '남대문로2가', '남대문로3가', '남대문로4가', '서소문동', '정동', '순화동', '의주로1가', '충정로1가', '봉래동1가', '회현동1가', '회현동2가', '남창동', '남대문로3가', '남대문로4가', '남대문로5가', '봉래동1가', '봉래동2가', '충정로1가', '순화동', '명동1가', '명동2가', '충무로1가', '충무로2가', '저동1가', '남산동1가', '남산동2가', '남산동3가', '태평로1가', '무교동', '다동', '을지로1가', '을지로2가', '삼각동', '남대문로1가', '남대문로2가', '수하동', '장교동', '수표동', '예장동', '회현동1가', '회현동2가', '회현동3가', '필동1가', '필동2가', '필동3가', '남학동', '주자동', '예장동', '충무로3가', '충무로4가', '충무로5가', '장충동2가', '묵정동', '장충동1가', '장충동2가', '묵정동', '광희동1가', '광희동2가', '쌍림동', '을지로6가', '을지로 7가', '충무로4가', '충무로5가', '인현동', '예관동', '오장동', '을지로3가', '을지로4가', '을지로5가', '주교동', '방산동', '입덩동', '산림동', '초동', '인현동', '저동2가', '무학동', '흥인동', '신당동', '황학동', '중림동', '의주로2가', '만리동1가', '만리동2가']\n",
    "Dongdaemun = ['신성동', '용두동', '제기동', '전농동', '답십리동', '장안동', '청량리동', '회기동', '휘경동', '이문동']\n",
    "Jungrang = ['면목동', '상봉동', '중화동', '묵동', '망우동', '신내동']\n",
    "Kwangjin = ['중곡동', '능동', '구의동', '광장동', '자양동', '화양동', '군자동']\n",
    "Seongdong = ['하왕십리동', '상왕십리동', '도선동', '혹익동', '마장동', '사근동', '행당동', '응봉동', '금호동1가', '금호동2가', '금호동3가', '금호동4가', '옥수동', '성수동1가', '성수동2가', '송정동', '용답동']\n",
    "Yongsan = ['후암동', '용산동2가', '용산동4가', '갈월동', '남영동', '동자동', '용산동1가', '청파동1가', '청파동2가', '청파동3가', '서계동', '원효로1가', '원효로2가', '문배동', '신계동', '원효로3가', '원효로4가', '신창동', '산천동', '청암동', '효창동', '용문동', '도원동', '한강로1가', '한강로2가', '한강로3가', '용산동3가', '용산동5가', '이촌동', '이태원동', '한남동', '서빙고동', '동빙고동', '주성동', '용산동6가', '보광동']\n",
    "Mapo = ['아현동', '공덕동', '염리동', '신공덕동', '도화동', '마포동', '용강동', '도화동', '토정동', '염리동', '대흥동', '신수동', '노고산동', '구수동', '현석동', '신정동', '창전동', '상수동', '하중동', '당인동', '서교동', '노고산동', '동교동', '합정동', '망워동', '연남동', '성산동', '중동', '상암동']\n",
    "\n",
    "North_river = [Dobong, Nowon, Gangbuk, Sungbuk, Eunpyeong, Jongro, Seodaemun, Jung, Dongdaemun, Jungrang, Kwangjin, Seongdong, Yongsan, Mapo]"
   ]
  },
  {
   "cell_type": "code",
   "execution_count": 7,
   "id": "7125d45e",
   "metadata": {},
   "outputs": [
    {
     "name": "stdout",
     "output_type": "stream",
     "text": [
      "357\n"
     ]
    }
   ],
   "source": [
    "sum = 0\n",
    "\n",
    "for town in North_river:\n",
    "    sum += len(town)\n",
    "    \n",
    "print(sum) # 행정동 362개 확인"
   ]
  },
  {
   "cell_type": "markdown",
   "id": "9e2217a5",
   "metadata": {},
   "source": [
    "## 네이버 지도 크롤링 시작"
   ]
  },
  {
   "cell_type": "code",
   "execution_count": 9,
   "id": "a119dee2",
   "metadata": {
    "scrolled": true
   },
   "outputs": [
    {
     "name": "stderr",
     "output_type": "stream",
     "text": [
      "\n",
      "\n",
      "====== WebDriver manager ======\n",
      "Current google-chrome version is 101.0.4951\n",
      "Get LATEST chromedriver version for 101.0.4951 google-chrome\n",
      "Driver [C:\\Users\\xilverh0ya\\.wdm\\drivers\\chromedriver\\win32\\101.0.4951.41\\chromedriver.exe] found in cache\n",
      "C:\\Users\\Public\\Documents\\ESTsoft\\CreatorTemp\\ipykernel_31300\\1815498322.py:1: DeprecationWarning: executable_path has been deprecated, please pass in a Service object\n",
      "  browser = webdriver.Chrome(ChromeDriverManager().install()) # 크롬드라이버 자동 설치\n"
     ]
    },
    {
     "name": "stdout",
     "output_type": "stream",
     "text": [
      "공릉동 음식점 정보 수집중\n"
     ]
    },
    {
     "ename": "KeyboardInterrupt",
     "evalue": "",
     "output_type": "error",
     "traceback": [
      "\u001b[1;31m---------------------------------------------------------------------------\u001b[0m",
      "\u001b[1;31mKeyboardInterrupt\u001b[0m                         Traceback (most recent call last)",
      "\u001b[1;32md:\\Midnight_Diner\\Assignment\\01_Map Scraping(Kakao, Naver)\\Naver_map_Crawling(Duckey).ipynb Cell 7'\u001b[0m in \u001b[0;36m<cell line: 7>\u001b[1;34m()\u001b[0m\n\u001b[0;32m    <a href='vscode-notebook-cell:/d%3A/Midnight_Diner/Assignment/01_Map%20Scraping%28Kakao%2C%20Naver%29/Naver_map_Crawling%28Duckey%29.ipynb#ch0000006?line=108'>109</a>\u001b[0m \u001b[39mif\u001b[39;00m browser\u001b[39m.\u001b[39mfind_elements(By\u001b[39m.\u001b[39mXPATH, \u001b[39m'\u001b[39m\u001b[39m//*[contains(@class, \u001b[39m\u001b[39m\"\u001b[39m\u001b[39m_3iTUo\u001b[39m\u001b[39m\"\u001b[39m\u001b[39m)]\u001b[39m\u001b[39m'\u001b[39m): \u001b[39m#더보기 버튼 확인 클릭 중지\u001b[39;00m\n\u001b[0;32m    <a href='vscode-notebook-cell:/d%3A/Midnight_Diner/Assignment/01_Map%20Scraping%28Kakao%2C%20Naver%29/Naver_map_Crawling%28Duckey%29.ipynb#ch0000006?line=109'>110</a>\u001b[0m     browser\u001b[39m.\u001b[39mfind_element(By\u001b[39m.\u001b[39mXPATH, \u001b[39m'\u001b[39m\u001b[39m//*[contains(@class, \u001b[39m\u001b[39m\"\u001b[39m\u001b[39m_3iTUo\u001b[39m\u001b[39m\"\u001b[39m\u001b[39m)]\u001b[39m\u001b[39m'\u001b[39m)\u001b[39m.\u001b[39mclick()\n\u001b[1;32m--> <a href='vscode-notebook-cell:/d%3A/Midnight_Diner/Assignment/01_Map%20Scraping%28Kakao%2C%20Naver%29/Naver_map_Crawling%28Duckey%29.ipynb#ch0000006?line=110'>111</a>\u001b[0m     time\u001b[39m.\u001b[39;49msleep(\u001b[39m2\u001b[39;49m)\n\u001b[0;32m    <a href='vscode-notebook-cell:/d%3A/Midnight_Diner/Assignment/01_Map%20Scraping%28Kakao%2C%20Naver%29/Naver_map_Crawling%28Duckey%29.ipynb#ch0000006?line=111'>112</a>\u001b[0m \u001b[39melse\u001b[39;00m:\n\u001b[0;32m    <a href='vscode-notebook-cell:/d%3A/Midnight_Diner/Assignment/01_Map%20Scraping%28Kakao%2C%20Naver%29/Naver_map_Crawling%28Duckey%29.ipynb#ch0000006?line=112'>113</a>\u001b[0m     \u001b[39mbreak\u001b[39;00m\n",
      "\u001b[1;31mKeyboardInterrupt\u001b[0m: "
     ]
    }
   ],
   "source": [
    "browser = webdriver.Chrome(ChromeDriverManager().install()) # 크롬드라이버 자동 설치\n",
    "url = 'https://map.naver.com/'\n",
    "browser.get(url)\n",
    "\n",
    "time.sleep(4)\n",
    "\n",
    "for district in North_river:\n",
    "    for town in district: #강북 각 구별 행정동 이름 호출\n",
    "        \n",
    "        columns = ['name','addresse','cat1','cat2','review_num', 'score', 'review']\n",
    "        df = pd.DataFrame(columns=columns)\n",
    "        \n",
    "        search_window = '/html/body/app/layout/div[3]/div[2]/shrinkable-layout/div/app-base/search-input-box/div/div[1]/div/input'\n",
    "        keyword = browser.find_element(By.XPATH, search_window) #검색창 \n",
    "        \n",
    "        print('{} 음식점 정보 수집중'.format(town))\n",
    "\n",
    "        #행정동 맛집 검색\n",
    "        keyword.send_keys('서울 {} 맛집\\n'.format(town))\n",
    "        \n",
    "        time.sleep(3)\n",
    "        \n",
    "        #iframe으로 전환\n",
    "        browser.switch_to.default_content()\n",
    "        iframe_1 = browser.find_element(By.XPATH, '/html/body/app/layout/div[3]/div[2]/shrinkable-layout/div/app-base/search-layout/div[1]/combined-search-list/salt-search-list/nm-external-frame-bridge/nm-iframe/iframe')\n",
    "        browser.switch_to.frame(iframe_1)\n",
    "\n",
    "        #xpath = '/html/body/div[3]/div/div[2]/div[1]/ul/li'\n",
    "        restaurants = browser.find_elements(By.XPATH, '//div[contains(@class, \"_3hn9q\")]')\n",
    "        \n",
    "        # 검색창에 보이는 음식점 리스트 추출 (최대 10개까지)\n",
    "        for restaurant in restaurants:\n",
    "            \n",
    "            #restaurant = browser.find_element(By.XPATH, '//*[contains(@class, \"_3hn9q\")]'.format(num+1))\n",
    "            restaurant.click()\n",
    "\n",
    "            time.sleep(2)\n",
    "\n",
    "            #iframe으로 전환\n",
    "            browser.switch_to.default_content()\n",
    "            iframe_2 = browser.find_element(By.XPATH, '/html/body/app/layout/div[3]/div[2]/shrinkable-layout/div/app-base/search-layout/div[2]/entry-layout/entry-place-bridge/div/nm-external-frame-bridge/nm-iframe/iframe')\n",
    "            browser.switch_to.frame(iframe_2)\n",
    "            \n",
    "            #음식점 이름\n",
    "            restaurant_name = browser.find_element(By.XPATH, '//*[@id=\"_title\"]/span[1]').text\n",
    "            \n",
    "            #음식점 분류\n",
    "            restaurant_clss = browser.find_element(By.XPATH, '/html/body/div[3]/div/div/div/div[2]/div[1]/div[1]/span[2]').text\n",
    "            \n",
    "            #방문자 리뷰수\n",
    "            restaurant_review_num = browser.find_element(By.XPATH, '/html/body/div[3]/div/div/div/div[2]/div[1]/div[2]/span[2]/a/em').text\n",
    "\n",
    "            #주소명, 우편번호 추출 (되는 경우가 있고, 안되는 경우가 있어서 보류)\n",
    "            # 주소 자세히 보기 버튼\n",
    "            #restautant_adrs_button = browser.find_element(By.XPATH, '/html/body/div[3]/div/div/div/div[6]/div/div[3]/div/ul/li[2]/div/a/span[1]') \n",
    "            #restautant_adrs_button.click()\n",
    "            \n",
    "            # 우편번호\n",
    "            #restautant_zipcode = browser.find_element(By.XPATH, '/html/body/div[3]/div/div/div/div[7]/div/div[3]/div/ul/li[2]/div/div[1]/div[1]') \n",
    "            \n",
    "            # 도로명 주소\n",
    "            restaurant_adrs = browser.find_element(By.XPATH, '//*[contains(text(), \"서울\")]').text \n",
    "            \n",
    "            # 평점 확인\n",
    "            try:\n",
    "                grade = browser.find_element(By.XPATH, '//*[@id=\"app-root\"]/div/div/div/div[2]/div[1]/div[2]/span[1]/em').text\n",
    "            except:\n",
    "                grade = 0\n",
    "            \n",
    "\n",
    "        \n",
    "            try: #메뉴 버튼이 없는 경우 대비해서 에러방지\n",
    "                menu_button = browser.find_element(By.XPATH, '//*[contains(text(), \"메뉴\")]')\n",
    "                menu_button.click()\n",
    "\n",
    "                time.sleep(1)\n",
    "\n",
    "                menu_name = browser.find_elements(By.XPATH, '//span[contains(@class, \"_3yfZ1\")]')\n",
    "                menu_price = browser.find_elements(By.XPATH, '//div[contains(@class, \"_3qFuX\")]')\n",
    "\n",
    "                menu = []\n",
    "\n",
    "                # 메뉴를 메뉴명, 가격으로 묶어서 리스트화\n",
    "                for i in range(len(menu_name)):    \n",
    "                    menu.append((menu_name[i].text, menu_price[i].text))\n",
    "\n",
    "            except:\n",
    "                pass\n",
    "\n",
    "            time.sleep(1)\n",
    "\n",
    "            #리뷰탭이 없는 경우도 대비\n",
    "            if browser.find_elements(By.XPATH, '//*[contains(text(), \"리뷰\")]'):\n",
    "                review_button = browser.find_element(By.XPATH, '//*[contains(text(), \"리뷰\")]') #\n",
    "                browser.execute_script(\"arguments[0].click();\", review_button)\n",
    "\n",
    "                time.sleep(2)\n",
    "\n",
    "                #리뷰 더보기 버튼\n",
    "                last_height = browser.execute_script('return document.body.scrollHeight') #스크롤 하단 \n",
    "\n",
    "                while True:\n",
    "                    browser.execute_script(\"window.scrollTo(0, document.body.scrollHeight);\") #스크롤 하단으로 이동\n",
    "                    time.sleep(1)\n",
    "\n",
    "                    new_height = browser.execute_script('return document.body.scrollHeight') #하단 위치가 new_height로 \n",
    "                    if new_height == last_height: #더 이상 하단이 없다면 \n",
    "                        if browser.find_elements(By.XPATH, '//*[contains(@class, \"_3iTUo\")]'): #더보기 버튼 확인 클릭 중지\n",
    "                            browser.find_element(By.XPATH, '//*[contains(@class, \"_3iTUo\")]').click()\n",
    "                            time.sleep(2)\n",
    "                        else:\n",
    "                            break\n",
    "                    last_height = new_height #아니면 새로운 하단이 last_height\n",
    "                    \n",
    "                browser.execute_script('window.scrollTo(0,0)') #스크롤 최상단으로 이동   \n",
    "\n",
    "                reviews = browser.find_elements_by_class_name(\"M_704\")\n",
    "       \n",
    "                for review in reviews:\n",
    "                    review.click()\n",
    "\n",
    "                # DataFrame으로 데이터 담기    \n",
    "                row = [restaurant_name, restaurant_adrs, restaurant_clss, menu, restaurant_review_num, grade, review.text]\n",
    "                series = pd.Series(row, index=df.columns)\n",
    "                df = df.append(series, ignore_index=True)\n",
    "            \n",
    "            browser.switch_to.default_content()\n",
    "            iframe_1 = browser.find_element(By.XPATH, '/html/body/app/layout/div[3]/div[2]/shrinkable-layout/div/app-base/search-layout/div[1]/combined-search-list/salt-search-list/nm-external-frame-bridge/nm-iframe/iframe')\n",
    "            browser.switch_to.frame(iframe_1)\n",
    "                \n",
    "        #iframe으로 전환\n",
    "        browser.switch_to.default_content()\n",
    "                \n",
    "        df.to_csv('../02_Map Dataset(Kakao, Naver)/01_Naver_map/NR/{}.csv'.format(town), index=False)\n",
    "        print('{} 음식점 정보 수집 완료'.format(town))\n",
    "        \n",
    "        #검색창 지우기\n",
    "        keyword = browser.find_element(By.XPATH, search_window)\n",
    "        keyword.clear()\n",
    "\n",
    "browser.quit()  "
   ]
  },
  {
   "cell_type": "code",
   "execution_count": null,
   "id": "ab790f3f",
   "metadata": {},
   "outputs": [],
   "source": [
    "df = pd.read_csv('쌍문동.csv', encoding= 'utf-8')\n",
    "df"
   ]
  }
 ],
 "metadata": {
  "interpreter": {
   "hash": "f95ed01c636313a93ed268236be8659cd857ea8812cdbcf34ce11f32eace8417"
  },
  "kernelspec": {
   "display_name": "Python 3.9.12 ('base')",
   "language": "python",
   "name": "python3"
  },
  "language_info": {
   "codemirror_mode": {
    "name": "ipython",
    "version": 3
   },
   "file_extension": ".py",
   "mimetype": "text/x-python",
   "name": "python",
   "nbconvert_exporter": "python",
   "pygments_lexer": "ipython3",
   "version": "3.9.12"
  }
 },
 "nbformat": 4,
 "nbformat_minor": 5
}
