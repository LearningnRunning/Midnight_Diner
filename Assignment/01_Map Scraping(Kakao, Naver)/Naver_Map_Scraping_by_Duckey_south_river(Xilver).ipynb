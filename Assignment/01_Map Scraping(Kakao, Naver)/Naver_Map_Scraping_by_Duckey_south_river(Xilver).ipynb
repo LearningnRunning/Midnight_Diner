{
 "cells": [
  {
   "cell_type": "code",
   "execution_count": 7,
   "id": "5e392bce",
   "metadata": {},
   "outputs": [],
   "source": [
    "# 이 코드는 '박선민'님에 의해 작성됐습니다.\n",
    "# This Code made by 'Duckey'"
   ]
  },
  {
   "cell_type": "markdown",
   "id": "d7225613",
   "metadata": {},
   "source": [
    "## 환경 설정"
   ]
  },
  {
   "cell_type": "code",
   "execution_count": 8,
   "id": "2f332f1d",
   "metadata": {},
   "outputs": [],
   "source": [
    "import time\n",
    "from webdriver_manager.chrome import ChromeDriverManager # 크롬드라이버 자동 설치 모듈\n",
    "from selenium import webdriver\n",
    "from selenium.webdriver.common.by import By\n",
    "from selenium.webdriver.support.ui import WebDriverWait \n",
    "from selenium.webdriver.support import expected_conditions as EC\n",
    "from selenium.webdriver.common.keys import Keys # button이 아닌 element도 클릭이 가능하게 만들어주는 모듈\n",
    "import pandas as pd"
   ]
  },
  {
   "cell_type": "markdown",
   "id": "2cd994cf",
   "metadata": {},
   "source": [
    "## 행정동 단위 리스트"
   ]
  },
  {
   "cell_type": "code",
   "execution_count": 9,
   "id": "ba8023a0",
   "metadata": {},
   "outputs": [],
   "source": [
    "#서울 강남\n",
    "\n",
    "# https://www.seoul.go.kr/seoul/autonomy_sub.do 참조\n",
    "\n",
    "seoul_south = [\n",
    "    '신사동', '논현1동', '논현2동', '압구정동', '청담동', '삼성1동', '삼성2동', '대치1동', '대치2동', '대치4동',\n",
    "    '역삼1동', '역삼2동', '도곡1동', '도곡2동', '개포1동', '개포2동', '개포4동', '세곡동', '일원본동', '일원1동',\n",
    "    '일원2동', '수서동', '염창동', '등촌1동', '등촌2동', '등촌3동', '화곡본동', '화곡1동', '화곡2동', '화곡3동',\n",
    "    '화곡4동', '화곡6동', '화곡8동', '우장산동', '가양1동', '가양2동', '가양3동', '발산1동', '공항동', '방화1동',\n",
    "    '방화2동', '방화3동', '목1동', '목2동', '목3동', '목4동', '목5동', '신월1동', '신월2동', '신월3동',\n",
    "    '신월4동', '신월5동', '신월6동', '신월7동', '신정1동', '신정2동', '신정3동', '신정4동', '신정6동', '신정7동',\n",
    "    '수궁동', '항동', '오류1동', '오류2동', '개봉1동', '개봉2동', '개봉3동', '고척1동', ' 고척2동', '신도림동',\n",
    "    '구로1동', '구로2동', '구로3동', '구로4동', '구로5동', '가리봉동', '영등포본동', '영등포동', '여의동', '당산1동',\n",
    "    '당산2동', '도림동', '문래동', '양평1동', '양평2동', '신길1동', '신길3동', '신길4동', '신길5동', '신길6동',\n",
    "    '신길7동', '대림1동', '대림2동', '대림3동', '가산동', '독산1동', '독산2동', '독산3동', '독산4동', '시흥1동',\n",
    "    '시흥2동', '시흥3동', '시흥4동', '시흥5동', '노량진1동', '노량진2동', '상도1동', '상도2동', '상도3동', '상도4동',\n",
    "    '흑석동', '사당1동', '사당2동', '사당3동', '사당4동', '사당5동', '대방동', '신대방1동', '신대방2동', '보라매동',\n",
    "    '은천동', '성현동', '중앙동', '청림동', '행운동', '청룡동', '낙성대동', '인현동', '남현동', '신림동',\n",
    "    '신사동', '조원동', '미성동', '난곡동', '난향동', '서원동', '신원동', '서림동', '삼성동', '대학동',\n",
    "    '잠원동', '반포본동', '반포1동', '반포2동', '반포3동', '반포4동', '서초1동', '서초2동', '서초3동', '서초4동',\n",
    "    '방배본동', '방배1동', '방배2동', '방배3동', '방배4동', '양재1동', '양재2동', '내곡동', '풍납1동', '풍납2동',\n",
    "    '거여1동', '거여2동', '마천1동', '마천2동', '방이1동', '방이2동', '오륜동', '오금동', '송파1동', '송파2동',\n",
    "    '석촌동', '삼전동', '가락본동', '가락1동', '문정1동', '문정2동', '장지동', '위례동', '잠실본동', '잠실2동',\n",
    "    '잠실3동', '잠실4동', '잠실6동', '잠실7동', '강일동', '상일1동', '상일2동', '명일1동', '명일2동', '고덕1동',\n",
    "    '고덕2동', '암사1동', '암사2동', '암사3동', '천호1동', '천호2동', '천호3동', '성내1동', '성내2동', '성내3동',\n",
    "    '길동', '둔촌1동', '둔촌2동'\n",
    "]"
   ]
  },
  {
   "cell_type": "code",
   "execution_count": 10,
   "id": "7125d45e",
   "metadata": {},
   "outputs": [
    {
     "name": "stdout",
     "output_type": "stream",
     "text": [
      "203\n"
     ]
    }
   ],
   "source": [
    "print(len(seoul_south)) # 행정동 203개 확인"
   ]
  },
  {
   "cell_type": "markdown",
   "id": "9e2217a5",
   "metadata": {},
   "source": [
    "## 네이버 지도 크롤링 시작"
   ]
  },
  {
   "cell_type": "code",
   "execution_count": 15,
   "id": "a119dee2",
   "metadata": {},
   "outputs": [
    {
     "name": "stderr",
     "output_type": "stream",
     "text": [
      "\n",
      "\n",
      "====== WebDriver manager ======\n",
      "Current google-chrome version is 101.0.4951\n",
      "Get LATEST chromedriver version for 101.0.4951 google-chrome\n",
      "Driver [C:\\Users\\xilverh0ya\\.wdm\\drivers\\chromedriver\\win32\\101.0.4951.41\\chromedriver.exe] found in cache\n",
      "C:\\Users\\Public\\Documents\\ESTsoft\\CreatorTemp\\ipykernel_27108\\1160031405.py:1: DeprecationWarning: executable_path has been deprecated, please pass in a Service object\n",
      "  browser = webdriver.Chrome(ChromeDriverManager().install()) # 크롬드라이버 자동 설치\n"
     ]
    },
    {
     "name": "stdout",
     "output_type": "stream",
     "text": [
      "신사동 음식점 정보 수집중\n"
     ]
    },
    {
     "ename": "KeyboardInterrupt",
     "evalue": "",
     "output_type": "error",
     "traceback": [
      "\u001b[1;31m---------------------------------------------------------------------------\u001b[0m",
      "\u001b[1;31mKeyboardInterrupt\u001b[0m                         Traceback (most recent call last)",
      "\u001b[1;32md:\\Midnight_Diner\\Assignment\\01_Map Scraping(Kakao, Naver)\\Naver_Map_Scraping_by_Duckey_south_river(Xilver).ipynb Cell 8'\u001b[0m in \u001b[0;36m<cell line: 7>\u001b[1;34m()\u001b[0m\n\u001b[0;32m    <a href='vscode-notebook-cell:/d%3A/Midnight_Diner/Assignment/01_Map%20Scraping%28Kakao%2C%20Naver%29/Naver_Map_Scraping_by_Duckey_south_river%28Xilver%29.ipynb#ch0000007?line=100'>101</a>\u001b[0m \u001b[39mwhile\u001b[39;00m \u001b[39mTrue\u001b[39;00m:\n\u001b[0;32m    <a href='vscode-notebook-cell:/d%3A/Midnight_Diner/Assignment/01_Map%20Scraping%28Kakao%2C%20Naver%29/Naver_Map_Scraping_by_Duckey_south_river%28Xilver%29.ipynb#ch0000007?line=101'>102</a>\u001b[0m     browser\u001b[39m.\u001b[39mexecute_script(\u001b[39m\"\u001b[39m\u001b[39mwindow.scrollTo(0, document.body.scrollHeight);\u001b[39m\u001b[39m\"\u001b[39m) \u001b[39m#스크롤 하단으로 이동\u001b[39;00m\n\u001b[1;32m--> <a href='vscode-notebook-cell:/d%3A/Midnight_Diner/Assignment/01_Map%20Scraping%28Kakao%2C%20Naver%29/Naver_Map_Scraping_by_Duckey_south_river%28Xilver%29.ipynb#ch0000007?line=102'>103</a>\u001b[0m     time\u001b[39m.\u001b[39;49msleep(\u001b[39m2\u001b[39;49m)\n\u001b[0;32m    <a href='vscode-notebook-cell:/d%3A/Midnight_Diner/Assignment/01_Map%20Scraping%28Kakao%2C%20Naver%29/Naver_Map_Scraping_by_Duckey_south_river%28Xilver%29.ipynb#ch0000007?line=104'>105</a>\u001b[0m     new_height \u001b[39m=\u001b[39m browser\u001b[39m.\u001b[39mexecute_script(\u001b[39m'\u001b[39m\u001b[39mreturn document.body.scrollHeight\u001b[39m\u001b[39m'\u001b[39m) \u001b[39m#하단 위치가 new_height로 \u001b[39;00m\n\u001b[0;32m    <a href='vscode-notebook-cell:/d%3A/Midnight_Diner/Assignment/01_Map%20Scraping%28Kakao%2C%20Naver%29/Naver_Map_Scraping_by_Duckey_south_river%28Xilver%29.ipynb#ch0000007?line=105'>106</a>\u001b[0m     \u001b[39mif\u001b[39;00m new_height \u001b[39m==\u001b[39m last_height: \u001b[39m#더 이상 하단이 없다면 \u001b[39;00m\n",
      "\u001b[1;31mKeyboardInterrupt\u001b[0m: "
     ]
    }
   ],
   "source": [
    "browser = webdriver.Chrome(ChromeDriverManager().install()) # 크롬드라이버 자동 설치\n",
    "url = 'https://map.naver.com/'\n",
    "browser.get(url)\n",
    "\n",
    "time.sleep(4)\n",
    "\n",
    "for district in seoul_south: #강남 각 구별 행정동 이름 호출\n",
    "            \n",
    "    columns = ['name','addresse','cat1','cat2','review_num', 'score', 'review']\n",
    "    df = pd.DataFrame(columns=columns)\n",
    "    \n",
    "    search_window = '/html/body/app/layout/div[3]/div[2]/shrinkable-layout/div/app-base/search-input-box/div/div[1]/div/input'\n",
    "    keyword = browser.find_element(By.XPATH, search_window) #검색창 \n",
    "    \n",
    "    print('{} 음식점 정보 수집중'.format(district))\n",
    "\n",
    "    #행정동 맛집 검색\n",
    "    keyword.send_keys('서울 {} 맛집\\n'.format(district))\n",
    "    \n",
    "    time.sleep(3)\n",
    "    \n",
    "    #iframe으로 전환\n",
    "    browser.switch_to.default_content()\n",
    "    iframe_1 = browser.find_element(By.XPATH, '/html/body/app/layout/div[3]/div[2]/shrinkable-layout/div/app-base/search-layout/div[1]/combined-search-list/salt-search-list/nm-external-frame-bridge/nm-iframe/iframe')\n",
    "    browser.switch_to.frame(iframe_1)\n",
    "\n",
    "    #xpath = '/html/body/div[3]/div/div[2]/div[1]/ul/li'\n",
    "    restaurants = browser.find_elements(By.XPATH, '//div[contains(@class, \"_3hn9q\")]')\n",
    "    \n",
    "    # 검색창에 보이는 음식점 리스트 추출 (최대 10개까지)\n",
    "    for restaurant in restaurants:\n",
    "\n",
    "        # restaurant = browser.find_element(By.XPATH, xpath + '[{}]/div[1][contains(@class, \"_3hn9q\")]'.format(num+1))\n",
    "        restaurant.click()\n",
    "\n",
    "        time.sleep(2)\n",
    "\n",
    "        #iframe으로 전환\n",
    "        browser.switch_to.default_content()\n",
    "        iframe_2 = browser.find_element(By.XPATH, '/html/body/app/layout/div[3]/div[2]/shrinkable-layout/div/app-base/search-layout/div[2]/entry-layout/entry-place-bridge/div/nm-external-frame-bridge/nm-iframe/iframe')\n",
    "        browser.switch_to.frame(iframe_2)\n",
    "        \n",
    "        #음식점 이름\n",
    "        restaurant_name = browser.find_element(By.XPATH, '//*[@id=\"_title\"]/span[1]').text\n",
    "        \n",
    "        #음식점 분류\n",
    "        restaurant_clss = browser.find_element(By.XPATH, '/html/body/div[3]/div/div/div/div[2]/div[1]/div[1]/span[2]').text\n",
    "        \n",
    "        #방문자 리뷰수\n",
    "        restaurant_review_num = browser.find_element(By.XPATH, '/html/body/div[3]/div/div/div/div[2]/div[1]/div[2]/span[2]/a/em').text\n",
    "\n",
    "        #주소명, 우편번호 추출 (되는 경우가 있고, 안되는 경우가 있어서 보류)\n",
    "        # 주소 자세히 보기 버튼\n",
    "        #restautant_adrs_button = browser.find_element(By.XPATH, '/html/body/div[3]/div/div/div/div[6]/div/div[3]/div/ul/li[2]/div/a/span[1]') \n",
    "        #restautant_adrs_button.click()\n",
    "        \n",
    "        # 우편번호\n",
    "        #restautant_zipcode = browser.find_element(By.XPATH, '/html/body/div[3]/div/div/div/div[7]/div/div[3]/div/ul/li[2]/div/div[1]/div[1]') \n",
    "        \n",
    "        # 도로명 주소\n",
    "        restaurant_adrs = browser.find_element(By.XPATH, '//*[contains(text(), \"서울\")]').text \n",
    "        \n",
    "        # 평점 확인\n",
    "        try:\n",
    "            grade = browser.find_element(By.XPATH, '//*[@id=\"app-root\"]/div/div/div/div[2]/div[1]/div[2]/span[1]/em').text\n",
    "        except:\n",
    "            grade = 0\n",
    "        \n",
    "\n",
    "    \n",
    "        try: #메뉴 버튼이 없는 경우 대비해서 에러방지\n",
    "            menu_button = browser.find_element(By.XPATH, '//*[contains(text(), \"메뉴\")]')\n",
    "            menu_button.click()\n",
    "\n",
    "            time.sleep(1)\n",
    "\n",
    "            menu_name = browser.find_elements(By.XPATH, '//span[contains(@class, \"_3yfZ1\")]')\n",
    "            menu_price = browser.find_elements(By.XPATH, '//div[contains(@class, \"_3qFuX\")]')\n",
    "\n",
    "            menu = []\n",
    "\n",
    "            # 메뉴를 메뉴명, 가격으로 묶어서 리스트화\n",
    "            for i in range(len(menu_name)):    \n",
    "                menu.append((menu_name[i].text, menu_price[i].text))\n",
    "\n",
    "        except:\n",
    "            pass\n",
    "\n",
    "        time.sleep(1)\n",
    "\n",
    "        #리뷰탭이 없는 경우도 대비\n",
    "        if browser.find_elements(By.XPATH, '//*[contains(text(), \"리뷰\")]'):\n",
    "            review_button = browser.find_element(By.XPATH, '//*[contains(text(), \"리뷰\")]') #\n",
    "            browser.execute_script(\"arguments[0].click();\", review_button)\n",
    "\n",
    "            time.sleep(2)\n",
    "\n",
    "            #리뷰 더보기 버튼\n",
    "            last_height = browser.execute_script('return document.body.scrollHeight') #스크롤 하단 \n",
    "\n",
    "            while True:\n",
    "                browser.execute_script(\"window.scrollTo(0, document.body.scrollHeight);\") #스크롤 하단으로 이동\n",
    "                time.sleep(2)\n",
    "\n",
    "                new_height = browser.execute_script('return document.body.scrollHeight') #하단 위치가 new_height로 \n",
    "                if new_height == last_height: #더 이상 하단이 없다면 \n",
    "                    if browser.find_elements(By.XPATH, '//*[contains(@class, \"_3iTUo\")]'): #더보기 버튼 확인 클릭 중지\n",
    "                        browser.find_element(By.XPATH, '//*[contains(@class, \"_3iTUo\")]').click()\n",
    "                        time.sleep(2)\n",
    "                    else:\n",
    "                        break\n",
    "                last_height = new_height #아니면 새로운 하단이 last_height\n",
    "\n",
    "\n",
    "            reviews = browser.find_elements_by_class_name(\"M_704\")\n",
    "    \n",
    "            for review in reviews:\n",
    "                review.click()\n",
    "\n",
    "        \n",
    "        # DataFrame으로 데이터 담기    \n",
    "        row = [restaurant_name, restaurant_adrs, restaurant_clss, menu, restaurant_review_num, grade, review.text]\n",
    "        series = pd.Series(row, index=df.columns)\n",
    "        df = df.append(series, ignore_index=True)\n",
    "            \n",
    "    #iframe으로 전환\n",
    "    browser.switch_to.default_content()\n",
    "                \n",
    "    df.to_csv('../02_Map Dataset(Kakao, Naver)/01_Naver_map/SR/{}.csv'.format(district), index=False)\n",
    "    print('{} 음식점 정보 수집 완료'.format(district))\n",
    "    \n",
    "    #검색창 지우기\n",
    "    keyword = browser.find_element(By.XPATH, search_window)\n",
    "    keyword.clear()\n",
    "\n",
    "browser.quit()  "
   ]
  }
 ],
 "metadata": {
  "interpreter": {
   "hash": "f95ed01c636313a93ed268236be8659cd857ea8812cdbcf34ce11f32eace8417"
  },
  "kernelspec": {
   "display_name": "Python 3.9.12 ('base')",
   "language": "python",
   "name": "python3"
  },
  "language_info": {
   "codemirror_mode": {
    "name": "ipython",
    "version": 3
   },
   "file_extension": ".py",
   "mimetype": "text/x-python",
   "name": "python",
   "nbconvert_exporter": "python",
   "pygments_lexer": "ipython3",
   "version": "3.9.12"
  }
 },
 "nbformat": 4,
 "nbformat_minor": 5
}
