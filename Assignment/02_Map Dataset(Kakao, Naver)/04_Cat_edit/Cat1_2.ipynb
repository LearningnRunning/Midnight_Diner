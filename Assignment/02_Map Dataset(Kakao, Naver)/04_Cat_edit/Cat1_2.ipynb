{
 "cells": [
  {
   "cell_type": "code",
   "execution_count": 1,
   "id": "119c9b96",
   "metadata": {},
   "outputs": [],
   "source": [
    "import pandas as pd"
   ]
  },
  {
   "cell_type": "markdown",
   "id": "b73036c9",
   "metadata": {},
   "source": [
    "## 기준\n",
    "\n",
    "- 족발, 보쌈 ->  족발, 보쌈 \n",
    "\n",
    "- 초밥\n",
    "- 초밥뷔페\n",
    "- 치킨, 닭강정 \n",
    "- 베이커리, 제과 \n",
    "- 양꼬치 중식당/ 양꼬치  vs 양꼬치 중식 육류 \n",
    "- 육대장 찌개, 전골/ 국밥 -> 찌개, 국밥 \n",
    "- 빙수 설빙  -> 디저트, 빙수\n",
    "- 새마을식당 -> 육류 \n",
    "- 홍콩반점 -> 중식당\n",
    "- 바닷가재 - 게, 대게, 바닷가재 -> 랍스터, 로브스터\n",
    "- 아웃백 -> 패밀리레스토랑\n",
    "- 경복궁 -> 한식, 육류\n",
    "- 수제비 -> 수제비, 칼국수 \n",
    "- 김밥천국 -> 분식\n",
    "- 초콜릿 -> 디저트\n",
    "- 치킨 / 닭강정\n",
    "- 전통찻집 -> 차\n",
    "- 불고기, 두루치기 -> 한식, 육류\n",
    "- 중식, 중화요리 -> 중식당(홍콩반점) vs 중화요리(리춘시장)  \n",
    "- 서가앤쿡 -> 이탈리아음식\n",
    "- 애슐리 -> 뷔페\n",
    "- 사철탕, 영양탕 -> 보신탕\n",
    "- 해물,생선 -> 해물\n",
    "- 매운탕, 해물탕 -> 해물탕\n",
    "- 순대 -> 순대, 순댓국 -> 찌개, 국밥\n",
    "- 삼겹살, 닭갈비 -> 그대로 \n",
    "- ca1(한식, 패스트푸드), ca2, cat3\n",
    "- 양식 -> 남미음식\n",
    "- 패스트푸드 -> 샌드위치, 햄버거, 치킨, 피자\n",
    "- 한식 -> 냉면 \n",
    "- 일식 -> 이자카야, 일본식주점/ 일식\n",
    "- 돈가스, 우동 -> 경양식, 돼지고기튀김\n",
    "- 음식점 -> 양식, 싹쓰리 솥뚜껑 삼겹살\n",
    "- 일본식 라멘 -> 일식 \n",
    "- 일식 -> 철판요리\n",
    "- 주점 -> 이자카야, 일본식주점 / 포차\n",
    "\n",
    "- cat1 cat2 정화 -> 한식, 육류, 패스트푸드\n",
    "- 팔각도 -> 닭갈비\n",
    "- 쌈촌 -> 쌈밥(cat2)\n",
    "\n",
    "- 한식 -> 면요리 -> 냉면, 국수 \n",
    "\n",
    "- 퓨전요리 -> 퓨전한식, 퓨전중식"
   ]
  },
  {
   "cell_type": "code",
   "execution_count": 13,
   "id": "2ac7221c",
   "metadata": {},
   "outputs": [],
   "source": [
    "df1.to_csv(\"cat_edit_1.csv\", index=False)"
   ]
  },
  {
   "cell_type": "code",
   "execution_count": 3,
   "id": "abb65d2b",
   "metadata": {},
   "outputs": [],
   "source": [
    "df2 = pd.read_csv(\"./cat_edit_1.csv\") #path 수정 필요"
   ]
  },
  {
   "cell_type": "code",
   "execution_count": 15,
   "id": "e932f872",
   "metadata": {
    "scrolled": true
   },
   "outputs": [
    {
     "data": {
      "text/html": [
       "<div>\n",
       "<style scoped>\n",
       "    .dataframe tbody tr th:only-of-type {\n",
       "        vertical-align: middle;\n",
       "    }\n",
       "\n",
       "    .dataframe tbody tr th {\n",
       "        vertical-align: top;\n",
       "    }\n",
       "\n",
       "    .dataframe thead th {\n",
       "        text-align: right;\n",
       "    }\n",
       "</style>\n",
       "<table border=\"1\" class=\"dataframe\">\n",
       "  <thead>\n",
       "    <tr style=\"text-align: right;\">\n",
       "      <th></th>\n",
       "      <th>raw</th>\n",
       "      <th>edit</th>\n",
       "    </tr>\n",
       "  </thead>\n",
       "  <tbody>\n",
       "    <tr>\n",
       "      <th>0</th>\n",
       "      <td>스타벅스</td>\n",
       "      <td>카페</td>\n",
       "    </tr>\n",
       "    <tr>\n",
       "      <th>1</th>\n",
       "      <td>쿠우쿠우</td>\n",
       "      <td>초밥뷔페</td>\n",
       "    </tr>\n",
       "    <tr>\n",
       "      <th>2</th>\n",
       "      <td>맘스터치</td>\n",
       "      <td>패스트푸드</td>\n",
       "    </tr>\n",
       "    <tr>\n",
       "      <th>3</th>\n",
       "      <td>파리바게뜨</td>\n",
       "      <td>베이커리, 제과</td>\n",
       "    </tr>\n",
       "    <tr>\n",
       "      <th>4</th>\n",
       "      <td>고양이카페</td>\n",
       "      <td>고양이카페</td>\n",
       "    </tr>\n",
       "    <tr>\n",
       "      <th>...</th>\n",
       "      <td>...</td>\n",
       "      <td>...</td>\n",
       "    </tr>\n",
       "    <tr>\n",
       "      <th>221</th>\n",
       "      <td>테마카페</td>\n",
       "      <td>카페</td>\n",
       "    </tr>\n",
       "    <tr>\n",
       "      <th>222</th>\n",
       "      <td>게,대게</td>\n",
       "      <td>게, 대게</td>\n",
       "    </tr>\n",
       "    <tr>\n",
       "      <th>223</th>\n",
       "      <td>한식</td>\n",
       "      <td>한식</td>\n",
       "    </tr>\n",
       "    <tr>\n",
       "      <th>224</th>\n",
       "      <td>인도음식</td>\n",
       "      <td>인도음식</td>\n",
       "    </tr>\n",
       "    <tr>\n",
       "      <th>225</th>\n",
       "      <td>간식</td>\n",
       "      <td>디저트</td>\n",
       "    </tr>\n",
       "  </tbody>\n",
       "</table>\n",
       "<p>226 rows × 2 columns</p>\n",
       "</div>"
      ],
      "text/plain": [
       "       raw      edit\n",
       "0     스타벅스        카페\n",
       "1     쿠우쿠우      초밥뷔페\n",
       "2     맘스터치     패스트푸드\n",
       "3    파리바게뜨  베이커리, 제과\n",
       "4    고양이카페     고양이카페\n",
       "..     ...       ...\n",
       "221   테마카페        카페\n",
       "222   게,대게     게, 대게\n",
       "223     한식        한식\n",
       "224   인도음식      인도음식\n",
       "225     간식       디저트\n",
       "\n",
       "[226 rows x 2 columns]"
      ]
     },
     "execution_count": 15,
     "metadata": {},
     "output_type": "execute_result"
    }
   ],
   "source": [
    "df2"
   ]
  },
  {
   "cell_type": "code",
   "execution_count": 4,
   "id": "d94cfb16",
   "metadata": {},
   "outputs": [],
   "source": [
    "data1 = {\n",
    "        'cat1' : [],\n",
    "        'cat2' : [],\n",
    "        'cat3' : []\n",
    "        }\n",
    "df3 = pd.DataFrame(data1)"
   ]
  },
  {
   "cell_type": "code",
   "execution_count": 5,
   "id": "b2ad25ba",
   "metadata": {},
   "outputs": [],
   "source": [
    "set2 = df2['raw'].tolist()\n",
    "set3 = df2['edit'].tolist()"
   ]
  },
  {
   "cell_type": "code",
   "execution_count": 6,
   "id": "006bb6be",
   "metadata": {},
   "outputs": [
    {
     "name": "stdout",
     "output_type": "stream",
     "text": [
      "스타벅스 카페\n",
      "카페\n",
      "스타벅스\n",
      "스타벅스\n",
      "쿠우쿠우 초밥뷔페\n",
      "뷔페\n",
      "초밥뷔페\n",
      "초밥\n",
      "맘스터치 패스트푸드\n",
      "패스트푸드\n",
      "햄버거,치킨\n",
      "햄버거\n",
      "파리바게뜨 베이커리, 제과\n"
     ]
    },
    {
     "ename": "KeyboardInterrupt",
     "evalue": "Interrupted by user",
     "output_type": "error",
     "traceback": [
      "\u001b[1;31m---------------------------------------------------------------------------\u001b[0m",
      "\u001b[1;31mKeyboardInterrupt\u001b[0m                         Traceback (most recent call last)",
      "\u001b[1;32m~\\AppData\\Local\\Temp/ipykernel_34164/141205587.py\u001b[0m in \u001b[0;36m<module>\u001b[1;34m\u001b[0m\n\u001b[0;32m      1\u001b[0m \u001b[1;32mfor\u001b[0m \u001b[0mi\u001b[0m\u001b[1;33m,\u001b[0m\u001b[0mj\u001b[0m \u001b[1;32min\u001b[0m \u001b[0mzip\u001b[0m\u001b[1;33m(\u001b[0m\u001b[0mset2\u001b[0m\u001b[1;33m,\u001b[0m\u001b[0mset3\u001b[0m\u001b[1;33m)\u001b[0m\u001b[1;33m:\u001b[0m\u001b[1;33m\u001b[0m\u001b[1;33m\u001b[0m\u001b[0m\n\u001b[0;32m      2\u001b[0m     \u001b[0mprint\u001b[0m\u001b[1;33m(\u001b[0m\u001b[0mi\u001b[0m\u001b[1;33m,\u001b[0m\u001b[0mj\u001b[0m\u001b[1;33m)\u001b[0m\u001b[1;33m\u001b[0m\u001b[1;33m\u001b[0m\u001b[0m\n\u001b[1;32m----> 3\u001b[1;33m     \u001b[0mcat1\u001b[0m \u001b[1;33m=\u001b[0m \u001b[0minput\u001b[0m\u001b[1;33m(\u001b[0m\u001b[1;33m)\u001b[0m\u001b[1;33m\u001b[0m\u001b[1;33m\u001b[0m\u001b[0m\n\u001b[0m\u001b[0;32m      4\u001b[0m     \u001b[0mcat2\u001b[0m \u001b[1;33m=\u001b[0m \u001b[0minput\u001b[0m\u001b[1;33m(\u001b[0m\u001b[1;33m)\u001b[0m\u001b[1;33m\u001b[0m\u001b[1;33m\u001b[0m\u001b[0m\n\u001b[0;32m      5\u001b[0m     \u001b[0mcat3\u001b[0m \u001b[1;33m=\u001b[0m \u001b[0minput\u001b[0m\u001b[1;33m(\u001b[0m\u001b[1;33m)\u001b[0m\u001b[1;33m\u001b[0m\u001b[1;33m\u001b[0m\u001b[0m\n",
      "\u001b[1;32m~\\anaconda3\\lib\\site-packages\\ipykernel\\kernelbase.py\u001b[0m in \u001b[0;36mraw_input\u001b[1;34m(self, prompt)\u001b[0m\n\u001b[0;32m   1004\u001b[0m                 \u001b[1;34m\"raw_input was called, but this frontend does not support input requests.\"\u001b[0m\u001b[1;33m\u001b[0m\u001b[1;33m\u001b[0m\u001b[0m\n\u001b[0;32m   1005\u001b[0m             )\n\u001b[1;32m-> 1006\u001b[1;33m         return self._input_request(\n\u001b[0m\u001b[0;32m   1007\u001b[0m             \u001b[0mstr\u001b[0m\u001b[1;33m(\u001b[0m\u001b[0mprompt\u001b[0m\u001b[1;33m)\u001b[0m\u001b[1;33m,\u001b[0m\u001b[1;33m\u001b[0m\u001b[1;33m\u001b[0m\u001b[0m\n\u001b[0;32m   1008\u001b[0m             \u001b[0mself\u001b[0m\u001b[1;33m.\u001b[0m\u001b[0m_parent_ident\u001b[0m\u001b[1;33m[\u001b[0m\u001b[1;34m\"shell\"\u001b[0m\u001b[1;33m]\u001b[0m\u001b[1;33m,\u001b[0m\u001b[1;33m\u001b[0m\u001b[1;33m\u001b[0m\u001b[0m\n",
      "\u001b[1;32m~\\anaconda3\\lib\\site-packages\\ipykernel\\kernelbase.py\u001b[0m in \u001b[0;36m_input_request\u001b[1;34m(self, prompt, ident, parent, password)\u001b[0m\n\u001b[0;32m   1049\u001b[0m             \u001b[1;32mexcept\u001b[0m \u001b[0mKeyboardInterrupt\u001b[0m\u001b[1;33m:\u001b[0m\u001b[1;33m\u001b[0m\u001b[1;33m\u001b[0m\u001b[0m\n\u001b[0;32m   1050\u001b[0m                 \u001b[1;31m# re-raise KeyboardInterrupt, to truncate traceback\u001b[0m\u001b[1;33m\u001b[0m\u001b[1;33m\u001b[0m\u001b[0m\n\u001b[1;32m-> 1051\u001b[1;33m                 \u001b[1;32mraise\u001b[0m \u001b[0mKeyboardInterrupt\u001b[0m\u001b[1;33m(\u001b[0m\u001b[1;34m\"Interrupted by user\"\u001b[0m\u001b[1;33m)\u001b[0m \u001b[1;32mfrom\u001b[0m \u001b[1;32mNone\u001b[0m\u001b[1;33m\u001b[0m\u001b[1;33m\u001b[0m\u001b[0m\n\u001b[0m\u001b[0;32m   1052\u001b[0m             \u001b[1;32mexcept\u001b[0m \u001b[0mException\u001b[0m\u001b[1;33m:\u001b[0m\u001b[1;33m\u001b[0m\u001b[1;33m\u001b[0m\u001b[0m\n\u001b[0;32m   1053\u001b[0m                 \u001b[0mself\u001b[0m\u001b[1;33m.\u001b[0m\u001b[0mlog\u001b[0m\u001b[1;33m.\u001b[0m\u001b[0mwarning\u001b[0m\u001b[1;33m(\u001b[0m\u001b[1;34m\"Invalid Message:\"\u001b[0m\u001b[1;33m,\u001b[0m \u001b[0mexc_info\u001b[0m\u001b[1;33m=\u001b[0m\u001b[1;32mTrue\u001b[0m\u001b[1;33m)\u001b[0m\u001b[1;33m\u001b[0m\u001b[1;33m\u001b[0m\u001b[0m\n",
      "\u001b[1;31mKeyboardInterrupt\u001b[0m: Interrupted by user"
     ]
    }
   ],
   "source": [
    "for i,j in zip(set2,set3):\n",
    "    print(i,j)\n",
    "    cat1 = input()\n",
    "    cat2 = input()\n",
    "    cat3 = input()\n",
    "    df3 = df3.append({'cat1' : cat1, 'cat2' : cat2,'cat3' : cat3} , ignore_index=True)"
   ]
  },
  {
   "cell_type": "code",
   "execution_count": 7,
   "id": "e1b03ce6",
   "metadata": {
    "scrolled": true
   },
   "outputs": [
    {
     "data": {
      "text/html": [
       "<div>\n",
       "<style scoped>\n",
       "    .dataframe tbody tr th:only-of-type {\n",
       "        vertical-align: middle;\n",
       "    }\n",
       "\n",
       "    .dataframe tbody tr th {\n",
       "        vertical-align: top;\n",
       "    }\n",
       "\n",
       "    .dataframe thead th {\n",
       "        text-align: right;\n",
       "    }\n",
       "</style>\n",
       "<table border=\"1\" class=\"dataframe\">\n",
       "  <thead>\n",
       "    <tr style=\"text-align: right;\">\n",
       "      <th></th>\n",
       "      <th>cat1</th>\n",
       "      <th>cat2</th>\n",
       "      <th>cat3</th>\n",
       "    </tr>\n",
       "  </thead>\n",
       "  <tbody>\n",
       "    <tr>\n",
       "      <th>0</th>\n",
       "      <td>카페</td>\n",
       "      <td>스타벅스</td>\n",
       "      <td>스타벅스</td>\n",
       "    </tr>\n",
       "    <tr>\n",
       "      <th>1</th>\n",
       "      <td>뷔페</td>\n",
       "      <td>초밥뷔페</td>\n",
       "      <td>초밥</td>\n",
       "    </tr>\n",
       "    <tr>\n",
       "      <th>2</th>\n",
       "      <td>패스트푸드</td>\n",
       "      <td>햄버거,치킨</td>\n",
       "      <td>햄버거</td>\n",
       "    </tr>\n",
       "  </tbody>\n",
       "</table>\n",
       "</div>"
      ],
      "text/plain": [
       "    cat1    cat2  cat3\n",
       "0     카페    스타벅스  스타벅스\n",
       "1     뷔페    초밥뷔페    초밥\n",
       "2  패스트푸드  햄버거,치킨   햄버거"
      ]
     },
     "execution_count": 7,
     "metadata": {},
     "output_type": "execute_result"
    }
   ],
   "source": [
    "df3"
   ]
  },
  {
   "cell_type": "markdown",
   "id": "f38b240a",
   "metadata": {},
   "source": [
    "## cat1 검색시 사용"
   ]
  },
  {
   "cell_type": "code",
   "execution_count": null,
   "id": "30a84383",
   "metadata": {},
   "outputs": [],
   "source": [
    "df1 = pd.read_csv(\"./master_rok.csv\") #path 수정 필요 파일은 슬랙으로 보내드렸어요!"
   ]
  },
  {
   "cell_type": "code",
   "execution_count": null,
   "id": "42105eb2",
   "metadata": {},
   "outputs": [],
   "source": [
    "search = \"검색할 카테고리\"\n",
    "df1[df1[\"cat1\"]==search]"
   ]
  }
 ],
 "metadata": {
  "kernelspec": {
   "display_name": "Python 3 (ipykernel)",
   "language": "python",
   "name": "python3"
  },
  "language_info": {
   "codemirror_mode": {
    "name": "ipython",
    "version": 3
   },
   "file_extension": ".py",
   "mimetype": "text/x-python",
   "name": "python",
   "nbconvert_exporter": "python",
   "pygments_lexer": "ipython3",
   "version": "3.9.7"
  }
 },
 "nbformat": 4,
 "nbformat_minor": 5
}
