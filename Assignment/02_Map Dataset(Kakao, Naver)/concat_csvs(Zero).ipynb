{
 "cells": [
  {
   "cell_type": "code",
   "execution_count": 27,
   "id": "788c1062",
   "metadata": {},
   "outputs": [
    {
     "name": "stdout",
     "output_type": "stream",
     "text": [
      "/Users/j/Desktop/csv_file_jy\r\n"
     ]
    }
   ],
   "source": [
    "# 해당 파일 경로 확인\n",
    "!pwd"
   ]
  },
  {
   "cell_type": "code",
   "execution_count": 25,
   "id": "404d3ce3",
   "metadata": {},
   "outputs": [],
   "source": [
    "# 필요한 모듈 불러오기\n",
    "import os \n",
    "import pandas as pd"
   ]
  },
  {
   "cell_type": "code",
   "execution_count": 43,
   "id": "1f8003a4",
   "metadata": {},
   "outputs": [],
   "source": [
    "#  os.listdir() : 해당 경로 안의 모든 파일을 불러옵니다.\n",
    "\n",
    "file_locataions = os.listdir()"
   ]
  },
  {
   "cell_type": "code",
   "execution_count": 44,
   "id": "4bd7cfcd",
   "metadata": {},
   "outputs": [
    {
     "data": {
      "text/plain": [
       "['가산동.csv',\n",
       " '노량진.csv',\n",
       " '방화동.csv',\n",
       " '과해동.csv',\n",
       " '대림동.csv',\n",
       " '청담동.csv',\n",
       " '신길동.csv',\n",
       " '신사.csv',\n",
       " '일원본동.csv',\n",
       " '독산동.csv',\n",
       " '오곡동.csv',\n",
       " '흑석.csv',\n",
       " '논현동.csv',\n",
       " '역삼동.csv',\n",
       " '.DS_Store',\n",
       " '수서동.csv',\n",
       " '압구정.csv',\n",
       " '오쇠동.csv',\n",
       " '개포동.csv',\n",
       " '도곡동.csv',\n",
       " '도림동.csv',\n",
       " '신대방.csv',\n",
       " 'Untitled.ipynb',\n",
       " '삼성동.csv',\n",
       " '영등포동.csv',\n",
       " '가리봉동.csv',\n",
       " '항동.csv',\n",
       " '금천 시흥동.csv',\n",
       " '사당.csv',\n",
       " '내발산동.csv',\n",
       " '상도.csv',\n",
       " '가양동.csv',\n",
       " '구로동.csv',\n",
       " '당산동.csv',\n",
       " '등촌동.csv',\n",
       " '개봉동.csv',\n",
       " '공화동.csv',\n",
       " 'master.csv',\n",
       " '오류동.csv',\n",
       " '외발산동.csv',\n",
       " '여의동.csv',\n",
       " '상도동.csv',\n",
       " '신월동.csv',\n",
       " '수궁동.csv',\n",
       " '동작.csv',\n",
       " '화곡동.csv',\n",
       " '문래동.csv',\n",
       " '대방.csv',\n",
       " '.ipynb_checkpoints',\n",
       " '세곡동.csv',\n",
       " '양평동.csv',\n",
       " '개화동.csv',\n",
       " '영등포본동.csv',\n",
       " '대치동.csv',\n",
       " '신전동.csv',\n",
       " '염창동.csv',\n",
       " '고척동.csv',\n",
       " '마곡동.csv',\n",
       " '본동.csv']"
      ]
     },
     "execution_count": 44,
     "metadata": {},
     "output_type": "execute_result"
    }
   ],
   "source": [
    "# 그러나 csv가 아닌 다른 파일이 존재하기에 전처리가 필요합니다.\n",
    "\n",
    "file_locataions"
   ]
  },
  {
   "cell_type": "code",
   "execution_count": 32,
   "id": "12478a19",
   "metadata": {},
   "outputs": [],
   "source": [
    "# .csv로 끝나는 파일만 리스트로 만들어 줍니다.\n",
    "\n",
    "file_locataions = [i for i in file_locataions if i.endswith('csv')]"
   ]
  },
  {
   "cell_type": "code",
   "execution_count": 34,
   "id": "417867af",
   "metadata": {
    "scrolled": true
   },
   "outputs": [
    {
     "data": {
      "text/plain": [
       "['가산동.csv',\n",
       " '노량진.csv',\n",
       " '방화동.csv',\n",
       " '과해동.csv',\n",
       " '대림동.csv',\n",
       " '청담동.csv',\n",
       " '신길동.csv',\n",
       " '신사.csv',\n",
       " '일원본동.csv',\n",
       " '독산동.csv',\n",
       " '오곡동.csv',\n",
       " '흑석.csv',\n",
       " '논현동.csv',\n",
       " '역삼동.csv',\n",
       " '수서동.csv',\n",
       " '압구정.csv',\n",
       " '오쇠동.csv',\n",
       " '개포동.csv',\n",
       " '도곡동.csv',\n",
       " '도림동.csv',\n",
       " '신대방.csv',\n",
       " '삼성동.csv',\n",
       " '영등포동.csv',\n",
       " '가리봉동.csv',\n",
       " '항동.csv',\n",
       " '금천 시흥동.csv',\n",
       " '사당.csv',\n",
       " '내발산동.csv',\n",
       " '상도.csv',\n",
       " '가양동.csv',\n",
       " '구로동.csv',\n",
       " '당산동.csv',\n",
       " '등촌동.csv',\n",
       " '개봉동.csv',\n",
       " '공화동.csv',\n",
       " 'master.csv',\n",
       " '오류동.csv',\n",
       " '외발산동.csv',\n",
       " '여의동.csv',\n",
       " '상도동.csv',\n",
       " '신월동.csv',\n",
       " '수궁동.csv',\n",
       " '동작.csv',\n",
       " '화곡동.csv',\n",
       " '문래동.csv',\n",
       " '대방.csv',\n",
       " '세곡동.csv',\n",
       " '양평동.csv',\n",
       " '개화동.csv',\n",
       " '영등포본동.csv',\n",
       " '대치동.csv',\n",
       " '신전동.csv',\n",
       " '염창동.csv',\n",
       " '고척동.csv',\n",
       " '마곡동.csv',\n",
       " '본동.csv']"
      ]
     },
     "execution_count": 34,
     "metadata": {},
     "output_type": "execute_result"
    }
   ],
   "source": [
    "file_locataions"
   ]
  },
  {
   "cell_type": "code",
   "execution_count": 41,
   "id": "4b8c99ac",
   "metadata": {},
   "outputs": [],
   "source": [
    "# file_locataions 안의 모든 파일을 concatenate 해줍니다.\n",
    "# 동으로 구분을 했기 때문에, 헷갈리지 않게 dataframe에 'region'구역을 만들어 줍니다.\n",
    "\n",
    "data = pd.DataFrame()\n",
    "\n",
    "for file in file_locataions:\n",
    "    tmp = pd.read_csv(file)\n",
    "    tmp['region'] = file\n",
    "    data = pd.concat([data, tmp])"
   ]
  },
  {
   "cell_type": "code",
   "execution_count": 37,
   "id": "0c4ddc90",
   "metadata": {},
   "outputs": [
    {
     "name": "stderr",
     "output_type": "stream",
     "text": [
      "/var/folders/h_/vntlnhwx04ldxdcw4k9ftgkh0000gn/T/ipykernel_7695/2236635135.py:1: FutureWarning: The default value of regex will change from True to False in a future version.\n",
      "  data['region'] = data['region'].str.replace('.csv', '')\n"
     ]
    }
   ],
   "source": [
    "# 맨 뒤 '.csv'가 거슬려 아무것도 없는 상태로 replace해줍니다.\n",
    "\n",
    "data['region'] = data['region'].str.replace('.csv', '')"
   ]
  },
  {
   "cell_type": "code",
   "execution_count": 39,
   "id": "56f96de9",
   "metadata": {},
   "outputs": [],
   "source": [
    "# 데이터 프레임의 최대 개수를 없애줍니다.\n",
    "\n",
    "data = data.reset_index(drop=True)"
   ]
  },
  {
   "cell_type": "code",
   "execution_count": 23,
   "id": "a13dd11a",
   "metadata": {},
   "outputs": [],
   "source": [
    "# master.csv라는 파일로 만들어줍니다.\n",
    "\n",
    "data.to_csv('master.csv', index=False)"
   ]
  },
  {
   "cell_type": "code",
   "execution_count": null,
   "id": "2443f64c",
   "metadata": {},
   "outputs": [],
   "source": []
  }
 ],
 "metadata": {
  "kernelspec": {
   "display_name": "Python 3 (ipykernel)",
   "language": "python",
   "name": "python3"
  },
  "language_info": {
   "codemirror_mode": {
    "name": "ipython",
    "version": 3
   },
   "file_extension": ".py",
   "mimetype": "text/x-python",
   "name": "python",
   "nbconvert_exporter": "python",
   "pygments_lexer": "ipython3",
   "version": "3.10.2"
  }
 },
 "nbformat": 4,
 "nbformat_minor": 5
}
